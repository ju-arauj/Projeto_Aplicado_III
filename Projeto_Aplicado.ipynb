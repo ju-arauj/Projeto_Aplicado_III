{
  "cells": [
    {
      "cell_type": "markdown",
      "metadata": {
        "id": "view-in-github",
        "colab_type": "text"
      },
      "source": [
        "<a href=\"https://colab.research.google.com/github/ju-arauj/Projeto_Aplicado_III/blob/main/Projeto_Aplicado.ipynb\" target=\"_parent\"><img src=\"https://colab.research.google.com/assets/colab-badge.svg\" alt=\"Open In Colab\"/></a>"
      ]
    },
    {
      "cell_type": "code",
      "execution_count": null,
      "id": "24ff50f7",
      "metadata": {
        "id": "24ff50f7"
      },
      "outputs": [],
      "source": [
        "from scipy.sparse import coo_matrix\n",
        "from sklearn.preprocessing import OneHotEncoder\n",
        "from sklearn.feature_extraction.text import TfidfVectorizer\n",
        "from scipy.sparse import hstack, vstack\n",
        "\n",
        "from lightfm import LightFM\n",
        "from lightfm.data import Dataset\n",
        "from lightfm.evaluation import precision_at_k, auc_score\n",
        "from lightfm.cross_validation import random_train_test_split\n",
        "\n",
        "from pathlib import Path\n",
        "import pandas as pd\n",
        "import numpy as np"
      ]
    },
    {
      "cell_type": "code",
      "execution_count": null,
      "id": "0a9a3cab",
      "metadata": {
        "id": "0a9a3cab"
      },
      "outputs": [],
      "source": [
        "\n",
        "path = r'C:\\Users\\tatih\\OneDrive\\Documentos\\Projeto Aplicado\\arquivo_test.csv'"
      ]
    },
    {
      "cell_type": "code",
      "execution_count": null,
      "id": "281c5b70",
      "metadata": {
        "id": "281c5b70",
        "outputId": "31aa907a-1512-401b-e020-d2080624c45c"
      },
      "outputs": [
        {
          "name": "stderr",
          "output_type": "stream",
          "text": [
            "C:\\Users\\tatih\\AppData\\Local\\Temp\\ipykernel_19352\\3280352130.py:1: DtypeWarning: Columns (0) have mixed types. Specify dtype option on import or set low_memory=False.\n",
            "  df = pd.read_csv(path)\n"
          ]
        }
      ],
      "source": [
        "df = pd.read_csv(path)"
      ]
    },
    {
      "cell_type": "code",
      "execution_count": null,
      "id": "26dccc6f",
      "metadata": {
        "id": "26dccc6f"
      },
      "outputs": [],
      "source": [
        "df = df.dropna()"
      ]
    },
    {
      "cell_type": "code",
      "execution_count": null,
      "id": "c7528b1a",
      "metadata": {
        "id": "c7528b1a",
        "outputId": "eb09a101-0d96-4643-8125-b160f646f855"
      },
      "outputs": [
        {
          "name": "stdout",
          "output_type": "stream",
          "text": [
            "DataFrame Final após Amostragem e Filtragem: 229944 interações\n",
            "Usuários Únicos Ativos: 52225\n",
            "Itens Únicos Ativos: 249\n"
          ]
        }
      ],
      "source": [
        "# --- AJUSTES DE MEMÓRIA E QUALIDADE DE DADOS ---\n",
        "\n",
        "SAMPLE_FRACTION = 1\n",
        "df = df.sample(frac=SAMPLE_FRACTION, random_state=42).copy()\n",
        "\n",
        "# Filtragem de usuários e itens inativos para reduzir o tamanho da matriz\n",
        "MIN_INTERACTIONS = 3 # Usuário deve ter no mínimo 3 interações\n",
        "MIN_REVIEWS = 3     # Item deve ter no mínimo 3 reviews\n",
        "\n",
        "user_counts = df['author_id'].value_counts()\n",
        "active_users = user_counts[user_counts >= MIN_INTERACTIONS].index\n",
        "df = df[df['author_id'].isin(active_users)].copy()\n",
        "\n",
        "item_counts = df['product_id'].value_counts()\n",
        "active_items = item_counts[item_counts >= MIN_REVIEWS].index\n",
        "df = df[df['product_id'].isin(active_items)].copy()\n",
        "\n",
        "print(f\"DataFrame Final após Amostragem e Filtragem: {df.shape[0]} interações\")\n",
        "print(f\"Usuários Únicos Ativos: {df['author_id'].nunique()}\")\n",
        "print(f\"Itens Únicos Ativos: {df['product_id'].nunique()}\")"
      ]
    },
    {
      "cell_type": "code",
      "execution_count": null,
      "id": "8862ec80",
      "metadata": {
        "id": "8862ec80",
        "outputId": "76dc8cc6-a8b2-4f1d-b61c-ceace0774496"
      },
      "outputs": [
        {
          "name": "stdout",
          "output_type": "stream",
          "text": [
            "Mapeamento e Quartis criados com sucesso.\n"
          ]
        }
      ],
      "source": [
        "# --- Mapeamento e Preparação ---\n",
        "\n",
        "# Mapeamento para IDs numéricos (LightFM requer números inteiros)\n",
        "df['user_idx'] = df['author_id'].astype('category').cat.codes\n",
        "df['item_idx'] = df['product_id'].astype('category').cat.codes\n",
        "\n",
        "# Mapeamento para interações numéricas (1=Recomendado)\n",
        "df['is_recommended_numeric'] = df['is_recommended'].apply(\n",
        "    lambda x: 1 if str(x).lower() in ['sim', '1', 'true'] or (isinstance(x, (int, float)) and x == 1.0) else 0\n",
        ")\n",
        "\n",
        "# Criação de features numéricas discretizadas (Quartis)\n",
        "df['price_q'] = pd.qcut(df['price_usd'], q=4, labels=['Q1', 'Q2', 'Q3', 'Q4'], duplicates='drop', precision=0)\n",
        "df['loves_q'] = pd.qcut(df['loves_count'], q=4, labels=['Q1', 'Q2', 'Q3', 'Q4'], duplicates='drop', precision=0)\n",
        "\n",
        "print(\"Mapeamento e Quartis criados com sucesso.\")"
      ]
    },
    {
      "cell_type": "code",
      "execution_count": null,
      "id": "893e3c6a",
      "metadata": {
        "id": "893e3c6a",
        "outputId": "2e6a946c-1ddf-4d0a-8ce0-09925fe98d3d"
      },
      "outputs": [
        {
          "name": "stdout",
          "output_type": "stream",
          "text": [
            "DataFrame de Metadados criado com sucesso.\n"
          ]
        }
      ],
      "source": [
        "# Criação do DataFrame de Metadados de Item\n",
        "\n",
        "# Criamos um DataFrame que tem apenas uma linha por produto, garantindo a metadata completa.\n",
        "# Usamos a coluna product_id como chave.\n",
        "item_metadata_df = df[[\n",
        "    'product_id',\n",
        "    'product_name',\n",
        "    'brand_name',\n",
        "    'secondary_category',\n",
        "    'price_usd'\n",
        "]].drop_duplicates(subset=['product_id']).set_index('product_id')\n",
        "\n",
        "print(\"DataFrame de Metadados criado com sucesso.\")"
      ]
    },
    {
      "cell_type": "code",
      "execution_count": null,
      "id": "b8093fb1",
      "metadata": {
        "id": "b8093fb1",
        "outputId": "763e9072-04e6-4b95-8e18-b2d6a03c3df3"
      },
      "outputs": [
        {
          "name": "stdout",
          "output_type": "stream",
          "text": [
            "Total de Features de Texto (TF-IDF) criadas: 82\n"
          ]
        }
      ],
      "source": [
        "# Coleta e Geração do Vocabulário TF-IDF\n",
        "\n",
        "\n",
        "MAX_TEXT_FEATURES = 300\n",
        "tfidf = TfidfVectorizer(max_features=MAX_TEXT_FEATURES, stop_words='english', token_pattern=r'\\b[a-zA-Z]{3,}\\b')\n",
        "all_item_features_sinc_text = set() # Lista que será unida à categórica\n",
        "\n",
        "\n",
        "\n",
        "# Highlights\n",
        "highlights_tfidf = tfidf.fit_transform(df['highlights'].fillna(''))\n",
        "highlight_features = [f\"high:{word}\" for word in tfidf.get_feature_names_out()]\n",
        "all_item_features_sinc_text.update(highlight_features)\n",
        "\n",
        "print(f\"Total de Features de Texto (TF-IDF) criadas: {len(all_item_features_sinc_text)}\")"
      ]
    },
    {
      "cell_type": "code",
      "execution_count": null,
      "id": "25ff2430",
      "metadata": {
        "id": "25ff2430"
      },
      "outputs": [],
      "source": [
        "# Função build_feature_tuples (AGORA COM TEXTO)\n",
        "\n",
        "def build_feature_tuples(df_row, type='user'):\n",
        "    features = []\n",
        "\n",
        "    # 1. USER Features\n",
        "    if type == 'user':\n",
        "        if pd.notna(df_row['skin_type']): features.append(f\"skin_type:{df_row['skin_type']}\")\n",
        "        if pd.notna(df_row['skin_tone']): features.append(f\"skin_tone:{df_row['skin_tone']}\")\n",
        "\n",
        "    # 2. ITEM Features\n",
        "    elif type == 'item':\n",
        "        # Categóricas\n",
        "        if pd.notna(df_row['brand_name']): features.append(f\"brand:{df_row['brand_name']}\")\n",
        "        if pd.notna(df_row['secondary_category']): features.append(f\"s_cat:{df_row['secondary_category']}\")\n",
        "\n",
        "        # Numéricas Discretizadas\n",
        "        if pd.notna(df_row['price_q']): features.append(f\"price_q:{df_row['price_q']}\")\n",
        "        if pd.notna(df_row['loves_q']): features.append(f\"loves_q:{df_row['loves_q']}\")\n",
        "\n",
        "        # **FEATURES DE TEXTO (tokens) **\n",
        "\n",
        "        if pd.notna(df_row['highlights']):\n",
        "            for token in df_row['highlights'].lower().split():\n",
        "                if len(token) >= 3:\n",
        "                     features.append(f\"high:{token}\")\n",
        "\n",
        "    return list(set(features))"
      ]
    },
    {
      "cell_type": "code",
      "execution_count": null,
      "id": "0c2bebf0",
      "metadata": {
        "id": "0c2bebf0",
        "outputId": "1da207c5-ed18-4a3f-f6e6-87654c8a8d8c"
      },
      "outputs": [
        {
          "name": "stdout",
          "output_type": "stream",
          "text": [
            "Dataset ajustado. Total de features de item: 282\n"
          ]
        }
      ],
      "source": [
        "# Criação das Tuplas, Sincronização e Dataset fit\n",
        "\n",
        "# 1. Cria a lista de tuplas de features\n",
        "user_features_data = df.drop_duplicates(subset='user_idx').apply(\n",
        "    lambda row: (row['user_idx'], build_feature_tuples(row, 'user')), axis=1\n",
        ").tolist()\n",
        "\n",
        "item_features_data = df.drop_duplicates(subset='item_idx').apply(\n",
        "    lambda row: (row['item_idx'], build_feature_tuples(row, 'item')), axis=1\n",
        ").tolist()\n",
        "\n",
        "# 2. Coleta e Combinação das Features (CRÍTICO)\n",
        "# Features categóricas/numéricas\n",
        "all_user_features_sinc_cat = set(f for _, features in user_features_data for f in features)\n",
        "all_item_features_sinc_cat = set(f for _, features in item_features_data for f in features)\n",
        "\n",
        "# Combina as categóricas/numéricas com as de texto (criadas na Célula 4)\n",
        "final_item_features = all_item_features_sinc_cat.union(all_item_features_sinc_text)\n",
        "\n",
        "# 3. Ajuste do Dataset\n",
        "dataset = Dataset()\n",
        "dataset.fit(\n",
        "    users=df['user_idx'].unique(),\n",
        "    items=df['item_idx'].unique(),\n",
        "    user_features=all_user_features_sinc_cat,\n",
        "    item_features=final_item_features\n",
        ")\n",
        "print(f\"Dataset ajustado. Total de features de item: {len(final_item_features)}\")"
      ]
    },
    {
      "cell_type": "code",
      "execution_count": null,
      "id": "332262fc",
      "metadata": {
        "id": "332262fc",
        "outputId": "3da1a966-26eb-413a-cafa-40de96a507ec"
      },
      "outputs": [
        {
          "name": "stdout",
          "output_type": "stream",
          "text": [
            "User Features Shape: (52225, 52242)\n",
            "Item Features Shape: (249, 531)\n",
            "Modelo LightFM instanciado com loss='logistic'.\n"
          ]
        }
      ],
      "source": [
        "#  Matrizes, Split e Instância do Modelo\n",
        "\n",
        "# 1. Construção das Interações\n",
        "(interactions, weights) = dataset.build_interactions(\n",
        "    (df['user_idx'][i], df['item_idx'][i], df['is_recommended_numeric'][i])\n",
        "    for i in df.index\n",
        ")\n",
        "\n",
        "# 2. Construção das Matrizes de Features\n",
        "user_features = dataset.build_user_features(user_features_data)\n",
        "item_features = dataset.build_item_features(item_features_data)\n",
        "\n",
        "print(f\"User Features Shape: {user_features.shape}\")\n",
        "print(f\"Item Features Shape: {item_features.shape}\")\n",
        "\n",
        "# 3. Split\n",
        "(train_interactions, test_interactions) = random_train_test_split(\n",
        "    interactions, test_percentage=0.2, random_state=42\n",
        ")\n",
        "\n",
        "# 4. Instanciar o Modelo (Configuração MÁXIMA SIMPLICIDADE)\n",
        "model = LightFM(\n",
        "    no_components=40,\n",
        "    learning_rate=0.05,\n",
        "    loss='logistic',\n",
        "    random_state=42\n",
        ")\n",
        "print(\"Modelo LightFM instanciado com loss='logistic'.\")"
      ]
    },
    {
      "cell_type": "code",
      "execution_count": null,
      "id": "3360f8f3",
      "metadata": {
        "id": "3360f8f3",
        "outputId": "9c3940ad-ff63-44fe-90b8-4143dec92ff4"
      },
      "outputs": [
        {
          "name": "stdout",
          "output_type": "stream",
          "text": [
            "🚀 Iniciando busca de hiperparâmetros...\n",
            "\n",
            "Treinando: components=10, lr=0.01, loss=logistic, epochs=20\n",
            "✅ precision@10=0.0049, AUC=0.5060\n",
            "------------------------------------------------------------\n",
            "Treinando: components=10, lr=0.01, loss=logistic, epochs=40\n",
            "✅ precision@10=0.0049, AUC=0.5035\n",
            "------------------------------------------------------------\n",
            "Treinando: components=10, lr=0.03, loss=logistic, epochs=20\n",
            "✅ precision@10=0.0048, AUC=0.5025\n",
            "------------------------------------------------------------\n",
            "Treinando: components=10, lr=0.03, loss=logistic, epochs=40\n",
            "✅ precision@10=0.0049, AUC=0.5009\n",
            "------------------------------------------------------------\n",
            "Treinando: components=20, lr=0.01, loss=logistic, epochs=20\n",
            "✅ precision@10=0.0046, AUC=0.5040\n",
            "------------------------------------------------------------\n",
            "Treinando: components=20, lr=0.01, loss=logistic, epochs=40\n",
            "✅ precision@10=0.0049, AUC=0.5010\n",
            "------------------------------------------------------------\n",
            "Treinando: components=20, lr=0.03, loss=logistic, epochs=20\n",
            "✅ precision@10=0.0049, AUC=0.5022\n",
            "------------------------------------------------------------\n",
            "Treinando: components=20, lr=0.03, loss=logistic, epochs=40\n",
            "✅ precision@10=0.0048, AUC=0.5007\n",
            "------------------------------------------------------------\n",
            "Treinando: components=40, lr=0.01, loss=logistic, epochs=20\n",
            "✅ precision@10=0.0047, AUC=0.5037\n",
            "------------------------------------------------------------\n",
            "Treinando: components=40, lr=0.01, loss=logistic, epochs=40\n",
            "✅ precision@10=0.0049, AUC=0.5008\n",
            "------------------------------------------------------------\n",
            "Treinando: components=40, lr=0.03, loss=logistic, epochs=20\n",
            "✅ precision@10=0.0048, AUC=0.5024\n",
            "------------------------------------------------------------\n",
            "Treinando: components=40, lr=0.03, loss=logistic, epochs=40\n",
            "✅ precision@10=0.0049, AUC=0.5010\n",
            "------------------------------------------------------------\n",
            "\n",
            "⏱️ Tempo total: 40.13 min\n",
            "\n",
            "🔝 Melhor combinação encontrada:\n",
            "components             10\n",
            "learning_rate        0.01\n",
            "loss             logistic\n",
            "epochs                 20\n",
            "precision@10       0.0049\n",
            "AUC                 0.506\n",
            "Name: 0, dtype: object\n",
            "\n",
            "📁 Resultados salvos em 'lightfm_resultados_otimizacao.csv'\n"
          ]
        }
      ],
      "source": [
        "\n",
        "# OTIMIZAÇÃO DE HIPERPARÂMETROS (versão final e estável)\n",
        "\n",
        "\n",
        "from lightfm import LightFM\n",
        "from lightfm.evaluation import precision_at_k, auc_score\n",
        "import pandas as pd\n",
        "import time\n",
        "\n",
        "\n",
        "# Função de avaliação com checagem desativada\n",
        "\n",
        "def evaluate_model(model, train, test, user_features, item_features):\n",
        "    precision = precision_at_k(\n",
        "        model,\n",
        "        test,\n",
        "        train_interactions=train,\n",
        "        user_features=user_features,\n",
        "        item_features=item_features,\n",
        "        k=10,\n",
        "        num_threads=1,               # 🔹 1 thread evita travamento\n",
        "        check_intersections=False    # 🔹 evita erro \"share interactions\"\n",
        "    ).mean()\n",
        "\n",
        "    auc = auc_score(\n",
        "        model,\n",
        "        test,\n",
        "        train_interactions=train,\n",
        "        user_features=user_features,\n",
        "        item_features=item_features,\n",
        "        num_threads=1,\n",
        "        check_intersections=False\n",
        "    ).mean()\n",
        "\n",
        "    return float(precision), float(auc)\n",
        "\n",
        "\n",
        "\n",
        "# Parâmetros ajustados para execução leve\n",
        "\n",
        "params = {\n",
        "    'no_components': [10, 20, 40],   # menos dimensões → mais rápido\n",
        "    'learning_rate': [0.01, 0.03],   # faixas seguras\n",
        "    'loss': ['logistic'],            # tipo de perda atual\n",
        "    'epochs': [20, 40]               # número de épocas moderado\n",
        "}\n",
        "\n",
        "results = []\n",
        "start_time = time.time()\n",
        "\n",
        "print(\"🚀 Iniciando busca de hiperparâmetros...\\n\")\n",
        "\n",
        "\n",
        "# Loop de busca e avaliação\n",
        "\n",
        "for n in params['no_components']:\n",
        "    for lr in params['learning_rate']:\n",
        "        for loss in params['loss']:\n",
        "            for ep in params['epochs']:\n",
        "                print(f\"Treinando: components={n}, lr={lr}, loss={loss}, epochs={ep}\")\n",
        "                try:\n",
        "                    model = LightFM(no_components=n, learning_rate=lr, loss=loss, random_state=42)\n",
        "                    model.fit(\n",
        "                        train_interactions,\n",
        "                        user_features=user_features,\n",
        "                        item_features=item_features,\n",
        "                        epochs=ep,\n",
        "                        num_threads=1,\n",
        "                        verbose=False\n",
        "                    )\n",
        "\n",
        "                    prec, auc = evaluate_model(model, train_interactions, test_interactions,\n",
        "                                               user_features, item_features)\n",
        "\n",
        "                    results.append({\n",
        "                        'components': n,\n",
        "                        'learning_rate': lr,\n",
        "                        'loss': loss,\n",
        "                        'epochs': ep,\n",
        "                        'precision@10': round(prec, 4),\n",
        "                        'AUC': round(auc, 4)\n",
        "                    })\n",
        "                    print(f\"✅ precision@10={prec:.4f}, AUC={auc:.4f}\")\n",
        "\n",
        "                except Exception as e:\n",
        "                    print(f\"⚠️ Erro ao avaliar combinação ({n}, {lr}, {loss}, {ep}): {e}\")\n",
        "                print(\"-\" * 60)\n",
        "\n",
        "print(f\"\\n⏱️ Tempo total: {(time.time() - start_time)/60:.2f} min\")\n",
        "\n",
        "\n",
        "# Resultados e melhor combinação\n",
        "\n",
        "results_df = pd.DataFrame(results)\n",
        "if not results_df.empty:\n",
        "    best = results_df.sort_values(by='AUC', ascending=False).iloc[0]\n",
        "    print(\"\\n🔝 Melhor combinação encontrada:\")\n",
        "    print(best)\n",
        "\n",
        "    # Salvar resultados em CSV para análise posterior\n",
        "    results_df.to_csv(\"lightfm_resultados_otimizacao.csv\", index=False)\n",
        "    print(\"\\n📁 Resultados salvos em 'lightfm_resultados_otimizacao.csv'\")\n",
        "else:\n",
        "    print(\"\\n❌ Nenhum resultado válido gerado. Verifique as combinações ou dados de entrada.\")\n"
      ]
    },
    {
      "cell_type": "code",
      "execution_count": null,
      "id": "bf8fef8f",
      "metadata": {
        "id": "bf8fef8f",
        "outputId": "44fdbb53-1959-48ab-ae2f-ec874c02a91b"
      },
      "outputs": [
        {
          "name": "stdout",
          "output_type": "stream",
          "text": [
            "Requirement already satisfied: matplotlib in c:\\users\\tatih\\miniconda3\\envs\\proj_lightfm\\lib\\site-packages (3.10.7)\n",
            "Requirement already satisfied: contourpy>=1.0.1 in c:\\users\\tatih\\miniconda3\\envs\\proj_lightfm\\lib\\site-packages (from matplotlib) (1.3.3)\n",
            "Requirement already satisfied: cycler>=0.10 in c:\\users\\tatih\\miniconda3\\envs\\proj_lightfm\\lib\\site-packages (from matplotlib) (0.12.1)\n",
            "Requirement already satisfied: fonttools>=4.22.0 in c:\\users\\tatih\\miniconda3\\envs\\proj_lightfm\\lib\\site-packages (from matplotlib) (4.60.1)\n",
            "Requirement already satisfied: kiwisolver>=1.3.1 in c:\\users\\tatih\\miniconda3\\envs\\proj_lightfm\\lib\\site-packages (from matplotlib) (1.4.9)\n",
            "Requirement already satisfied: numpy>=1.23 in c:\\users\\tatih\\miniconda3\\envs\\proj_lightfm\\lib\\site-packages (from matplotlib) (1.26.4)\n",
            "Requirement already satisfied: packaging>=20.0 in c:\\users\\tatih\\miniconda3\\envs\\proj_lightfm\\lib\\site-packages (from matplotlib) (25.0)\n",
            "Requirement already satisfied: pillow>=8 in c:\\users\\tatih\\miniconda3\\envs\\proj_lightfm\\lib\\site-packages (from matplotlib) (12.0.0)\n",
            "Requirement already satisfied: pyparsing>=3 in c:\\users\\tatih\\miniconda3\\envs\\proj_lightfm\\lib\\site-packages (from matplotlib) (3.2.5)\n",
            "Requirement already satisfied: python-dateutil>=2.7 in c:\\users\\tatih\\miniconda3\\envs\\proj_lightfm\\lib\\site-packages (from matplotlib) (2.9.0.post0)\n",
            "Requirement already satisfied: six>=1.5 in c:\\users\\tatih\\miniconda3\\envs\\proj_lightfm\\lib\\site-packages (from python-dateutil>=2.7->matplotlib) (1.17.0)\n"
          ]
        },
        {
          "name": "stderr",
          "output_type": "stream",
          "text": [
            "Epoch: 100%|██████████| 20/20 [01:06<00:00,  3.30s/it]\n"
          ]
        },
        {
          "name": "stdout",
          "output_type": "stream",
          "text": [
            "\n",
            "Desempenho final → Precision@10: 0.0049, AUC: 0.5060\n"
          ]
        },
        {
          "data": {
            "image/png": "[encoded data removed]",
            "text/plain": [
              "<Figure size 640x480 with 1 Axes>"
            ]
          },
          "metadata": {},
          "output_type": "display_data"
        }
      ],
      "source": [
        "\n",
        "# Treinar modelo final com melhores parâmetros\n",
        "!pip install matplotlib\n",
        "import matplotlib.pyplot as plt\n",
        "\n",
        "model = LightFM(\n",
        "    no_components=int(best['components']),\n",
        "    learning_rate=best['learning_rate'],\n",
        "    loss=best['loss'],\n",
        "    random_state=42\n",
        ")\n",
        "model.fit(train_interactions, user_features=user_features, item_features=item_features,\n",
        "          epochs=int(best['epochs']), num_threads=2, verbose=True)\n",
        "\n",
        "prec, auc = evaluate_model(model, train_interactions, test_interactions, user_features, item_features)\n",
        "print(f\"\\nDesempenho final → Precision@10: {prec:.4f}, AUC: {auc:.4f}\")\n",
        "\n",
        "plt.bar(['Precision@10', 'AUC'], [prec, auc])\n",
        "plt.title('Desempenho Final do Modelo LightFM Otimizado')\n",
        "plt.ylim(0, 1)\n",
        "plt.show()\n",
        "\n",
        "\n",
        "\n"
      ]
    },
    {
      "cell_type": "code",
      "execution_count": null,
      "id": "11a3073e",
      "metadata": {
        "id": "11a3073e",
        "outputId": "7a69abf0-e2ea-43fe-e528-8a756d35502c"
      },
      "outputs": [
        {
          "name": "stdout",
          "output_type": "stream",
          "text": [
            "✅ Modelo completo salvo em 'lightfm_bundle.pkl'.\n"
          ]
        }
      ],
      "source": [
        "\n",
        "#  SALVAR MODELO E FEATURES (implantação)\n",
        "import pickle\n",
        "\n",
        "\n",
        "with open(\"lightfm_bundle.pkl\", \"wb\") as f:\n",
        "    pickle.dump({\n",
        "        \"model\": model,\n",
        "        \"user_features\": user_features,\n",
        "        \"item_features\": item_features,\n",
        "        \"dataset\": dataset\n",
        "    }, f)\n",
        "\n",
        "print(\"✅ Modelo completo salvo em 'lightfm_bundle.pkl'.\")"
      ]
    },
    {
      "cell_type": "code",
      "execution_count": null,
      "id": "1910fe46",
      "metadata": {
        "id": "1910fe46",
        "outputId": "43e62b84-475e-46a1-ead2-64942e04bbd8"
      },
      "outputs": [
        {
          "name": "stdout",
          "output_type": "stream",
          "text": [
            "✅ Modelo e features carregados com sucesso!\n"
          ]
        }
      ],
      "source": [
        "\n",
        "#  CARREGAR MODELO SALVO\n",
        "\n",
        "with open(\"lightfm_bundle.pkl\", \"rb\") as f:\n",
        "    bundle = pickle.load(f)\n",
        "\n",
        "model = bundle[\"model\"]\n",
        "user_features = bundle[\"user_features\"]\n",
        "item_features = bundle[\"item_features\"]\n",
        "dataset = bundle[\"dataset\"]\n",
        "\n",
        "print(\"✅ Modelo e features carregados com sucesso!\")"
      ]
    },
    {
      "cell_type": "code",
      "execution_count": null,
      "id": "0fbb1423",
      "metadata": {
        "id": "0fbb1423"
      },
      "outputs": [],
      "source": [
        "# FAZER RECOMENDAÇÕES PARA UM USUÁRIO ESPECÍFICO\n",
        "\n",
        "import numpy as np\n",
        "import pandas as pd\n",
        "\n",
        "def recomendar_usuario(author_id, df, model, dataset, user_features, item_features,\n",
        "                       top_n=10, batch_size=1000, top_popular_backup=True):\n",
        "    \"\"\"\n",
        "    Gera recomendações personalizadas (ou populares, se o usuário for novo).\n",
        "\n",
        "    Parâmetros:\n",
        "      author_id (str): ID do usuário\n",
        "      df (pd.DataFrame): DataFrame original (com colunas product_id, brand_name, product_name)\n",
        "      model (LightFM): Modelo treinado\n",
        "      dataset (Dataset): Dataset do LightFM (para mapeamentos)\n",
        "      user_features, item_features: matrizes de features\n",
        "      top_n (int): número de recomendações\n",
        "      batch_size (int): tamanho dos lotes de predição\n",
        "      top_popular_backup (bool): se True, usa produtos mais populares como fallback\n",
        "\n",
        "    Retorna:\n",
        "      Lista de tuplas (product_id, marca, nome, score)\n",
        "    \"\"\"\n",
        "    user_id_map, _, item_id_map, _ = dataset.mapping()\n",
        "    inv_item_map = {v: k for k, v in item_id_map.items()}\n",
        "    n_items = len(item_id_map)\n",
        "\n",
        "    # 🔹 CASO 1: Usuário novo (não visto no treino)\n",
        "    if author_id not in user_id_map:\n",
        "        print(f\"⚠️ Usuário {author_id} não encontrado — exibindo recomendações gerais.\")\n",
        "\n",
        "        # Opção 1: Recomendação baseada em popularidade\n",
        "        if top_popular_backup:\n",
        "            populares = (\n",
        "                df[df['is_recommended_numeric'] == 1]\n",
        "                .groupby(['product_id', 'brand_name', 'product_name'])\n",
        "                .size()\n",
        "                .reset_index(name='n_recommend')\n",
        "                .sort_values('n_recommend', ascending=False)\n",
        "                .head(top_n)\n",
        "            )\n",
        "            recs = []\n",
        "            for _, row in populares.iterrows():\n",
        "                recs.append((row['product_id'], row['brand_name'], row['product_name'], row['n_recommend']))\n",
        "            return recs\n",
        "\n",
        "        # Opção 2: fallback baseado em média de scores (se preferir manter o modelo)\n",
        "        user_idxs = np.arange(min(50, len(user_id_map)), dtype=np.int32)\n",
        "        avg_scores = np.zeros(n_items, dtype=np.float32)\n",
        "\n",
        "        for u in user_idxs:\n",
        "            user_scores = model.predict(\n",
        "                np.full(n_items, u, dtype=np.int32),\n",
        "                np.arange(n_items, dtype=np.int32),\n",
        "                user_features=user_features,\n",
        "                item_features=item_features\n",
        "            )\n",
        "            avg_scores += user_scores\n",
        "        avg_scores /= len(user_idxs)\n",
        "        top_idx = np.argsort(-avg_scores)[:top_n]\n",
        "        scores = avg_scores\n",
        "\n",
        "    # 🔹 CASO 2: Usuário já existente no modelo\n",
        "    else:\n",
        "        user_idx = user_id_map[author_id]\n",
        "        scores = np.empty(n_items, dtype=np.float32)\n",
        "\n",
        "        for start in range(0, n_items, batch_size):\n",
        "            end = min(start + batch_size, n_items)\n",
        "            items_batch = np.arange(start, end, dtype=np.int32)\n",
        "            users_batch = np.full_like(items_batch, user_idx, dtype=np.int32)\n",
        "            scores[start:end] = model.predict(\n",
        "                users_batch, items_batch,\n",
        "                user_features=user_features,\n",
        "                item_features=item_features\n",
        "            )\n",
        "\n",
        "        top_idx = np.argsort(-scores)[:top_n]\n",
        "\n",
        "    # 🔹 Montar lista de recomendações\n",
        "    recs = []\n",
        "    for idx in top_idx:\n",
        "        pid = inv_item_map[int(idx)]\n",
        "        produto = df[df['product_id'] == pid]\n",
        "\n",
        "        if not produto.empty:\n",
        "            nome = produto['product_name'].iloc[0]\n",
        "            marca = produto['brand_name'].iloc[0]\n",
        "        else:\n",
        "            nome = \"Produto desconhecido\"\n",
        "            marca = \"Marca desconhecida\"\n",
        "\n",
        "        recs.append((pid, marca, nome, float(scores[idx])))\n",
        "\n",
        "    return recs\n"
      ]
    },
    {
      "cell_type": "code",
      "execution_count": null,
      "id": "c0cc524f",
      "metadata": {
        "id": "c0cc524f",
        "outputId": "4492ae69-9b03-475c-ab95-c077694ee852"
      },
      "outputs": [
        {
          "name": "stdout",
          "output_type": "stream",
          "text": [
            "⚠️ Usuário 22227672606 não encontrado — exibindo recomendações gerais.\n",
            "\n",
            "🎯 Recomendações personalizadas para o usuário 22227672606:\n",
            "1. LANEIGE - Lip Sleeping Mask Intense Hydration with Vitamin C (Score: 3679.0000)\n",
            "2. Farmacy - Green Clean Makeup Meltaway Cleansing Balm Limited Edition Jumbo (Score: 2599.0000)\n",
            "3. Farmacy - Green Clean Makeup Removing Cleansing Balm (Score: 2599.0000)\n",
            "4. Dermalogica - Mini Daily Microfoliant Exfoliator (Score: 2598.0000)\n",
            "5. Dermalogica - Daily Microfoliant Exfoliator (Score: 2598.0000)\n",
            "6. Youth To The People - Superfood Antioxidant Cleanser (Score: 2223.0000)\n",
            "7. Youth To The People - Mini Superfood Antioxidant Cleanser (Score: 2219.0000)\n",
            "8. Estée Lauder - Estee Lauder Advanced Night Repair Synchronized Multi-Recovery Complex Serum (Score: 1910.0000)\n",
            "9. Estée Lauder - Advanced Night Repair Synchronized Multi-Recovery Complex Duo (Score: 1910.0000)\n",
            "10. Estée Lauder - Mini Advanced Night Repair Synchronized Multi-Recovery Complex (Score: 1910.0000)\n",
            "⚠️ Usuário 22227672606 não encontrado — exibindo recomendações gerais.\n",
            "\n",
            "🆕 Recomendações gerais para o novo usuário 22227672606:\n",
            "1. LANEIGE - Lip Sleeping Mask Intense Hydration with Vitamin C (Score: 3679.0000)\n",
            "2. Farmacy - Green Clean Makeup Meltaway Cleansing Balm Limited Edition Jumbo (Score: 2599.0000)\n",
            "3. Farmacy - Green Clean Makeup Removing Cleansing Balm (Score: 2599.0000)\n",
            "4. Dermalogica - Mini Daily Microfoliant Exfoliator (Score: 2598.0000)\n",
            "5. Dermalogica - Daily Microfoliant Exfoliator (Score: 2598.0000)\n",
            "6. Youth To The People - Superfood Antioxidant Cleanser (Score: 2223.0000)\n",
            "7. Youth To The People - Mini Superfood Antioxidant Cleanser (Score: 2219.0000)\n",
            "8. Estée Lauder - Estee Lauder Advanced Night Repair Synchronized Multi-Recovery Complex Serum (Score: 1910.0000)\n",
            "9. Estée Lauder - Advanced Night Repair Synchronized Multi-Recovery Complex Duo (Score: 1910.0000)\n",
            "10. Estée Lauder - Mini Advanced Night Repair Synchronized Multi-Recovery Complex (Score: 1910.0000)\n"
          ]
        }
      ],
      "source": [
        "\n",
        "#Recomendação\n",
        "\n",
        "# Exemplo 1 — Usuário existente no modelo\n",
        "usuario_existente = df['author_id'].iloc[0]\n",
        "recs_existente = recomendar_usuario(usuario_existente, df, model, dataset, user_features, item_features, top_n=10)\n",
        "\n",
        "print(f\"\\n🎯 Recomendações personalizadas para o usuário {usuario_existente}:\")\n",
        "for i, (pid, marca, nome, score) in enumerate(recs_existente, start=1):\n",
        "    print(f\"{i}. {marca} - {nome} (Score: {score:.4f})\")\n",
        "\n",
        "\n",
        "# Exemplo 2 — Usuário novo (não visto no treino)\n",
        "usuario_novo = \"22227672606\"\n",
        "recs_novo = recomendar_usuario(usuario_novo, df, model, dataset, user_features, item_features, top_n=10)\n",
        "\n",
        "print(f\"\\n🆕 Recomendações gerais para o novo usuário {usuario_novo}:\")\n",
        "for i, (pid, marca, nome, score) in enumerate(recs_novo, start=1):\n",
        "    print(f\"{i}. {marca} - {nome} (Score: {score:.4f})\")\n"
      ]
    }
  ],
  "metadata": {
    "kernelspec": {
      "display_name": "proj_lightfm",
      "language": "python",
      "name": "python3"
    },
    "language_info": {
      "codemirror_mode": {
        "name": "ipython",
        "version": 3
      },
      "file_extension": ".py",
      "mimetype": "text/x-python",
      "name": "python",
      "nbconvert_exporter": "python",
      "pygments_lexer": "ipython3",
      "version": "3.11.14"
    },
    "colab": {
      "provenance": [],
      "include_colab_link": true
    }
  },
  "nbformat": 4,
  "nbformat_minor": 5
}